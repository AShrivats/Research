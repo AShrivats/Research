{
 "cells": [
  {
   "cell_type": "markdown",
   "metadata": {},
   "source": [
    "# 1 period, 1 firm case"
   ]
  },
  {
   "cell_type": "markdown",
   "metadata": {},
   "source": [
    "This notebook works through a simple test case where we have one firm, optimizing over one period (no future after this period). \n",
    "\n",
    "Firms will aim to generate as much as possible, resulting in an exogenously given generation target $G$. \n",
    "\n",
    "Under the $\\mathbb{P}$ measure, they will generate $G(2p\\epsilon + (1-p))$, where $\\epsilon \\sim U(0,1)$. Consequently, it is clear that $2p\\epsilon + (1-p) \\sim U(1-p, 1+p)$. $p$ is an exogenously given parameter that is chosen to accurately model generation uncertainty.\n",
    "\n",
    "Under the $\\mathbb{Q}$ (risk neutral) measure, $\\epsilon \\sim $ Beta$(a, b)$. We note that the two measures are absolutely continuous with respect to one another as they have the same support of $(0,1)$.\n",
    "\n",
    "Note: This may not be the best choice of generation randomness. Would potential reviewers have an issue with this? \n",
    "\n",
    "Some other definitions (all exogeneously provided):\n",
    "\n",
    "$R$ - the requirement imposed by the regulatory body on clean energy generation\n",
    "\n",
    "$\\pi$ - the penalty per unit of non-compliance\n",
    "\n",
    "$C(G)$ - the cost of planned generation in the amount $G$.\n",
    "\n",
    "\n",
    "In this setup, our control is $\\Gamma$, the amount of certificates that we buy. In the 1-period case, we do not have any state variables. This will change when we extend to multiple periods and introduce the notion of banking.\n",
    "\n",
    "For now, we impose that $\\Gamma > - G(1-p)$ - essentially, this means that we cannot ever end up short in certificates.\n",
    "\n",
    "In our control setup for this simple case, a firm chooses $\\Gamma$ such that they minimize the cost function below:\n",
    "\n",
    "$ C = \\min_{\\Gamma}\\{ C(G) + \\pi E^\\mathbb{P}[(R - (G(2p\\epsilon + (1-p)) + \\Gamma)_+)_+] - \\pi E^\\mathbb{Q}[(R - (G(2p\\epsilon + (1-p))))_+ -(R - (G(2p\\epsilon + (1-p)) + \\Gamma)_+)_+]$\n",
    "\n",
    "The first term is the cost of generation, the second term is the cost of non-compliance, and the third term is an indifference pricing argument for the cost of the trades made (have to pay the value of having $\\Gamma$ certificates, under the $\\mathbb{Q}$ measure). \n",
    "\n",
    "Note: the reason the MC definition of price doesn't work is that it doesn't account for the fact that after a certain number of certificates, they no longer hold value to you (except for possibly the ability to bank them, which we can capture by updating the state variables when appropriate -- of course, this only applies to multiperiod models). Also, I don't quite understand the usage of FTAP when the asset value at time T is dependent on who is holding it\n",
    "\n",
    "\n",
    "Through some annoying analysis, we obtain:\n",
    "\n",
    "$E^\\mathbb{P}[(R - (G(2p\\epsilon + (1-p)) + \\Gamma)_+)_+] = R E - G p (E^2 - D^2) - (\\Gamma + G(1-p))(E - D)$\n",
    "\n",
    "$E^\\mathbb{Q}[(R - (G(2p\\epsilon + (1-p))))_+] = (R - G(1-p)) \\int_{0}^{A}f(x)dx - 2Gp \\int_{0}^{A} g(x) dx$\n",
    "\n",
    "$E^\\mathbb{Q}[(R - (G(2p\\epsilon + (1-p)) + \\Gamma)_+)_+] = R \\int_{0}^{E} f(x) dx - (\\Gamma + G (1-p))\\int_{D}^{E} f(x)dx - 2Gp\\int_{D}^{E} g(x)dx$\n",
    "\n",
    "where $E = \\min(1, \\frac{R - G(1-p) - \\Gamma}{2Gp}), D = \\max(0, \\frac{-\\Gamma - G(1-p)}{2Gp}), A = \\min(1, \\frac{R - G(1-p)}{2Gp}), f(x) = \\frac{x^{a-1}(1-x)^{b-1}}{B(a,b)}, g(x) = \\frac{x^{a}(1-x)^{b-1}}{B(a,b)}$\n",
    "\n",
    "I will provide full derivations if requested, but I am reasonably confident that the above is correct.\n",
    "\n",
    "We will now go through a quick exercise in plotting and minimizing this, for some arbitrarily chosen values"
   ]
  },
  {
   "cell_type": "code",
   "execution_count": 2,
   "metadata": {},
   "outputs": [
    {
     "name": "stdout",
     "output_type": "stream",
     "text": [
      "28110.983499\n",
      "28550.0\n"
     ]
    },
    {
     "data": {
      "image/png": "[encoded data removed]",
      "text/plain": [
       "<matplotlib.figure.Figure at 0x102d1be48>"
      ]
     },
     "metadata": {},
     "output_type": "display_data"
    }
   ],
   "source": [
    "import numpy as np\n",
    "from scipy.stats import beta\n",
    "from scipy.special import beta as bt\n",
    "import scipy.integrate as integrate\n",
    "import matplotlib.pyplot as plt\n",
    "\n",
    "# simple code for the 1 period, 1 firm case\n",
    "# firms will aim to generate as much as possible, resulting in an exogeneous generation target G\n",
    "# Under the P-measure, they will generate G(2p \\epsilon)\n",
    "\n",
    "# somewhat randomly chosen values for the time being\n",
    "R = 200\n",
    "G = 200\n",
    "pi = 300 # SACP of 300 is in line with the NJ SREC market in 2019\n",
    "p = 0.05\n",
    "\n",
    "# beta distribution parameters - again chosen somewhat randomly\n",
    "# not sure how to choose these in a more intelligent way\n",
    "a = 1.2\n",
    "b = 2\n",
    "\n",
    "\n",
    "\n",
    "def costs(gamma, gen):\n",
    "    D = min(max(0, (- gamma - gen * (1 - p)) / (2. * gen * p)),1)\n",
    "    E = max(min(1, (R - gen * (1 - p) - gamma) / (2. * gen * p)),0)\n",
    "    A = max(min(1, (R - gen * (1 - p)) / (2 * gen * p)),0)\n",
    "    g_1 = integrate.quad(lambda x: ((x ** a) * (1 - x) ** (b-1))/(bt(a,b)), 0, A)[0]\n",
    "    g_2 = integrate.quad(lambda x: ((x ** a) * (1 - x) ** (b-1))/(bt(a,b)), D, E)[0]\n",
    "\n",
    "\n",
    "\n",
    "    def prodcost(gg):  # linear costs, another assumption\n",
    "        # using the costs from https://www.lazard.com/media/450337/lazard-levelized-cost-of-energy-version-110.pdf\n",
    "        # assuming midpoint of range for Solar PV - Rooftop commercial & industrial (139/MWh)\n",
    "        # would change depending on the producer, but this is a reasonable LCOE\n",
    "        fixed_cost = 0  # fixed costs do exist, but dont really impact our decision making, as we would incur them anyways\n",
    "        return fixed_cost + 139. * gg\n",
    "\n",
    "    def noncompliancecost(gamma):\n",
    "        return R * E - gen * p * (E**2 - D ** 2) - (gamma + gen*(1-p))*(E - D)\n",
    "\n",
    "    def tradingcost():\n",
    "        hold_zero = (R - gen * (1 - p)) * beta.cdf(A, a, b) - 2. * gen * p * g_1 # fix this\n",
    "        hold_gamma = R * beta.cdf(E, a, b) - (gamma + gen* (1-p)) * (beta.cdf(E, a, b) - beta.cdf(D, a, b)) - \\\n",
    "                     2 * gen * p * g_2\n",
    "\n",
    "        return hold_zero - hold_gamma\n",
    "    # print(\"Cost of generation: \" + str(prodcost(gen)))\n",
    "    # print(\"Cost of non-compliance: \" + str(pi * (noncompliancecost(gamma))))\n",
    "    # print(\"Cost of trading: \" + str(pi * (tradingcost())))\n",
    "\n",
    "    return prodcost(gen) + pi * (noncompliancecost(gamma) + tradingcost())\n",
    "\n",
    "\n",
    "gammas = np.linspace(-G * (1-p), G*(1-p), 1000)\n",
    "Gs = [G]*1000\n",
    "cost_list = list(map(costs, gammas, Gs))\n",
    "#print(cost_list)\n",
    "plt.plot(gammas, cost_list)\n",
    "plt.xlabel(\"Trading Activity\")\n",
    "plt.ylabel(\"Cost ($)\")\n",
    "plt.title(\"Cost vs Trading Activity\")\n",
    "plt.show()"
   ]
  },
  {
   "cell_type": "markdown",
   "metadata": {},
   "source": [
    "This is non-convex. We can see that there are many minimums... this may change when multiple periods are incorporated, as one would be disincentivized to sell so many certificates. "
   ]
  },
  {
   "cell_type": "code",
   "execution_count": null,
   "metadata": {
    "collapsed": true
   },
   "outputs": [],
   "source": []
  }
 ],
 "metadata": {
  "kernelspec": {
   "display_name": "Python 3",
   "language": "python",
   "name": "python3"
  },
  "language_info": {
   "codemirror_mode": {
    "name": "ipython",
    "version": 3
   },
   "file_extension": ".py",
   "mimetype": "text/x-python",
   "name": "python",
   "nbconvert_exporter": "python",
   "pygments_lexer": "ipython3",
   "version": "3.6.3"
  }
 },
 "nbformat": 4,
 "nbformat_minor": 2
}
